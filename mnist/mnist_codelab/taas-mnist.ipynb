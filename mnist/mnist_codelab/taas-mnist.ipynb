{
 "cells": [
  {
   "cell_type": "code",
   "execution_count": 1,
   "metadata": {},
   "outputs": [
    {
     "name": "stdout",
     "output_type": "stream",
     "text": [
      "WARNING: Using temporary folder as log directory: /var/folders/v9/vrbrlhtd1dz8tdzl3s3d4d3c0000gn/T/tmpnKcFML\n"
     ]
    }
   ],
   "source": [
    "import tensorflow as tf\n",
    "from caicloud.clever.tensorflow import dist_base\n",
    "from tensorflow.examples.tutorials.mnist import input_data"
   ]
  },
  {
   "cell_type": "code",
   "execution_count": 2,
   "metadata": {},
   "outputs": [
    {
     "name": "stdout",
     "output_type": "stream",
     "text": [
      "Extracting MNIST_data/train-images-idx3-ubyte.gz\n",
      "Extracting MNIST_data/train-labels-idx1-ubyte.gz\n",
      "Extracting MNIST_data/t10k-images-idx3-ubyte.gz\n",
      "Extracting MNIST_data/t10k-labels-idx1-ubyte.gz\n"
     ]
    }
   ],
   "source": [
    "INPUT_NODE = 784     # 输入节点\n",
    "OUTPUT_NODE = 10     # 输出节点\n",
    "LAYER1_NODE = 500    # 隐藏层数                        \n",
    "BATCH_SIZE = 100     # 每次batch打包的样本个数        \n",
    "\n",
    "# 模型相关的参数\n",
    "LEARNING_RATE = 0.05      \n",
    "\n",
    "x = None\n",
    "y_ = None\n",
    "train_op = None\n",
    "accuracy = None\n",
    "local_step = 0\n",
    "mnist = input_data.read_data_sets(\"MNIST_data\", one_hot=True)"
   ]
  },
  {
   "cell_type": "code",
   "execution_count": 3,
   "metadata": {
    "collapsed": true
   },
   "outputs": [],
   "source": [
    "def inference(input_tensor):\n",
    "    # 生成隐藏层的参数。\n",
    "    weights1 = tf.Variable(tf.truncated_normal([INPUT_NODE, LAYER1_NODE], stddev=0.1))\n",
    "    biases1 = tf.Variable(tf.constant(0.1, shape=[LAYER1_NODE]))\n",
    "    # 生成输出层的参数。\n",
    "    weights2 = tf.Variable(tf.truncated_normal([LAYER1_NODE, OUTPUT_NODE], stddev=0.1))\n",
    "    biases2 = tf.Variable(tf.constant(0.1, shape=[OUTPUT_NODE]))\n",
    "    \n",
    "    layer1 = tf.nn.relu(tf.matmul(input_tensor, weights1) + biases1)\n",
    "    return tf.matmul(layer1, weights2) + biases2"
   ]
  },
  {
   "cell_type": "code",
   "execution_count": 4,
   "metadata": {
    "collapsed": true
   },
   "outputs": [],
   "source": [
    "def model_fn(sync, num_replicas):\n",
    "    global x, y_, train_op, accuracy\n",
    "    x = tf.placeholder(tf.float32, [None, INPUT_NODE], name='x-input')\n",
    "    y_ = tf.placeholder(tf.float32, [None, OUTPUT_NODE], name='y-input')\n",
    "    \n",
    "    # 计算不含滑动平均类的前向传播结果\n",
    "    y = inference(x)\n",
    "    \n",
    "    # 定义训练轮数\n",
    "    global_step = tf.Variable(0, name='global_step', trainable=False)    \n",
    "    \n",
    "    # 计算交叉熵及其平均值\n",
    "    cross_entropy = tf.nn.sparse_softmax_cross_entropy_with_logits(logits=y, labels=tf.argmax(y_, 1))\n",
    "    cross_entropy_mean = tf.reduce_mean(cross_entropy)\n",
    "    \n",
    "    # 优化损失函数\n",
    "    optimizer = tf.train.GradientDescentOptimizer(LEARNING_RATE)\n",
    "    if sync:\n",
    "        num_workers = num_replicas\n",
    "        optimizer = tf.train.SyncReplicasOptimizer(\n",
    "            optimizer,\n",
    "            replicas_to_aggregate=num_workers,\n",
    "            total_num_replicas=num_workers,\n",
    "            name=\"mnist_sync_replicas\")\n",
    "    train_op = optimizer.minimize(cross_entropy_mean, global_step=global_step)\n",
    "    \n",
    "    # 计算正确率\n",
    "    correct_prediction = tf.equal(tf.argmax(y, 1), tf.argmax(y_, 1))\n",
    "    accuracy = tf.reduce_mean(tf.cast(correct_prediction, tf.float32))\n",
    "    \n",
    "    return dist_base.ModelFnHandler(\n",
    "        global_step=global_step,\n",
    "        optimizer=optimizer,\n",
    "        summary_op=None)"
   ]
  },
  {
   "cell_type": "code",
   "execution_count": 5,
   "metadata": {
    "collapsed": true
   },
   "outputs": [],
   "source": [
    "def train_fn(sess, num_global_step):\n",
    "    global x, y_, train_op, accuracy, local_step, mnist\n",
    "\n",
    "    if local_step % 1000 == 0:\n",
    "        validate_acc = sess.run(\n",
    "            accuracy, \n",
    "            feed_dict={x: mnist.validation.images, \n",
    "                       y_: mnist.validation.labels})\n",
    "        print(\"After %d training step(s), validation accuracy using average model is %g \" % (\n",
    "            num_global_step, validate_acc))\n",
    "\n",
    "    local_step += 1\n",
    "    xs, ys = mnist.train.next_batch(BATCH_SIZE)\n",
    "    sess.run(train_op,feed_dict={x:xs,y_:ys})\n",
    "    \n",
    "    return False"
   ]
  },
  {
   "cell_type": "code",
   "execution_count": 6,
   "metadata": {
    "collapsed": true
   },
   "outputs": [],
   "source": [
    "def after_train_hook(sess):\n",
    "    global x, y_, train_op, accuracy, mnist\n",
    "\n",
    "    test_feed = {x: mnist.test.images, y_: mnist.test.labels}\n",
    "    test_acc = sess.run(accuracy,feed_dict=test_feed)\n",
    "    print((\"Test accuracy using average model is %g\" %(test_acc)))"
   ]
  },
  {
   "cell_type": "code",
   "execution_count": 7,
   "metadata": {},
   "outputs": [
    {
     "name": "stdout",
     "output_type": "stream",
     "text": [
      "INFO:tensorflow:Starting standard services.\n",
      "INFO:tensorflow:Starting queue runners.\n",
      "Training begins @ 2017-06-25 10:02:43.251937INFO:tensorflow:Saving checkpoint to path /var/folders/v9/vrbrlhtd1dz8tdzl3s3d4d3c0000gn/T/tmpnKcFML/model.ckpt\n",
      "\n",
      "INFO:tensorflow:global_step/sec: 0\n",
      "After 0 training step(s), validation accuracy using average model is 0.1514 \n",
      "Training ends @ 2017-06-25 10:02:43.738761\n",
      "Training elapsed time: 0.486821 s\n",
      "Test accuracy using average model is 0.243\n"
     ]
    }
   ],
   "source": [
    "if __name__=='__main__':\n",
    "    distTfRunner = dist_base.DistTensorflowRunner(\n",
    "        model_fn=model_fn,\n",
    "        after_train_hook=after_train_hook)\n",
    "    distTfRunner.run(train_fn)"
   ]
  },
  {
   "cell_type": "code",
   "execution_count": null,
   "metadata": {
    "collapsed": true
   },
   "outputs": [],
   "source": []
  }
 ],
 "metadata": {
  "kernelspec": {
   "display_name": "Python 2",
   "language": "python",
   "name": "python2"
  },
  "language_info": {
   "codemirror_mode": {
    "name": "ipython",
    "version": 2
   },
   "file_extension": ".py",
   "mimetype": "text/x-python",
   "name": "python",
   "nbconvert_exporter": "python",
   "pygments_lexer": "ipython2",
   "version": "2.7.13"
  }
 },
 "nbformat": 4,
 "nbformat_minor": 2
}
